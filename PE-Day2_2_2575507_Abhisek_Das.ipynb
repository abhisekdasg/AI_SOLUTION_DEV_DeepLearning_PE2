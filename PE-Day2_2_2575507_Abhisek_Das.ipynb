{
 "cells": [
  {
   "cell_type": "code",
   "execution_count": 2,
   "id": "da3671ea",
   "metadata": {},
   "outputs": [],
   "source": [
    "from keras.datasets import mnist\n",
    "from keras.models import Sequential\n",
    "from keras.layers import Dense,Dropout\n",
    "from keras.optimizers import RMSprop"
   ]
  },
  {
   "cell_type": "code",
   "execution_count": 3,
   "id": "877f7219",
   "metadata": {},
   "outputs": [],
   "source": [
    "batch_size=128\n",
    "num_classes=10\n",
    "epochs=20"
   ]
  },
  {
   "cell_type": "code",
   "execution_count": 4,
   "id": "ba701643",
   "metadata": {},
   "outputs": [
    {
     "name": "stdout",
     "output_type": "stream",
     "text": [
      "Shape-x:\t (60000, 28, 28)\n",
      "Shape-y:\t (60000,)\n"
     ]
    }
   ],
   "source": [
    "(xtrain,ytrain),(xtest,ytest)=mnist.load_data()\n",
    "print('Shape-x:\\t',xtrain.shape)\n",
    "print('Shape-y:\\t',ytrain.shape)"
   ]
  },
  {
   "cell_type": "code",
   "execution_count": 5,
   "id": "c7cde162",
   "metadata": {},
   "outputs": [
    {
     "name": "stdout",
     "output_type": "stream",
     "text": [
      "Shape-x-train:\t (60000, 784)\n",
      "Shape-x-Test:\t (10000, 784)\n"
     ]
    }
   ],
   "source": [
    "xtrain=xtrain.reshape(60000,784)\n",
    "xtest=xtest.reshape(10000,784)\n",
    "print('Shape-x-train:\\t',xtrain.shape)\n",
    "print('Shape-x-Test:\\t',xtest.shape)"
   ]
  },
  {
   "cell_type": "code",
   "execution_count": 6,
   "id": "b76a80c5",
   "metadata": {},
   "outputs": [],
   "source": [
    "xtrain=xtrain.astype('float32')\n",
    "xtest=xtest.astype('float32')"
   ]
  },
  {
   "cell_type": "code",
   "execution_count": 7,
   "id": "59cd7c85",
   "metadata": {},
   "outputs": [],
   "source": [
    "xtrain=xtrain/255.\n",
    "xtest=xtest/255."
   ]
  },
  {
   "cell_type": "markdown",
   "id": "22aa2039",
   "metadata": {},
   "source": [
    "# Print the shape of data"
   ]
  },
  {
   "cell_type": "code",
   "execution_count": 8,
   "id": "3ffb9eef",
   "metadata": {},
   "outputs": [
    {
     "name": "stdout",
     "output_type": "stream",
     "text": [
      "60000 train samples\n",
      "10000 test samples\n"
     ]
    }
   ],
   "source": [
    "print(xtrain.shape[0],'train samples')\n",
    "print(xtest.shape[0],'test samples')"
   ]
  },
  {
   "cell_type": "markdown",
   "id": "2f2a71c1",
   "metadata": {},
   "source": [
    "# Convert class vectors to binary class matrices"
   ]
  },
  {
   "cell_type": "code",
   "execution_count": 9,
   "id": "89998a2b",
   "metadata": {},
   "outputs": [],
   "source": [
    "import keras\n",
    "\n",
    "ytrain=keras.utils.to_categorical(ytrain,num_classes)\n",
    "ytest=keras.utils.to_categorical(ytest,num_classes)"
   ]
  },
  {
   "cell_type": "code",
   "execution_count": 10,
   "id": "4d77a17d",
   "metadata": {},
   "outputs": [
    {
     "data": {
      "text/plain": [
       "(60000, 10)"
      ]
     },
     "execution_count": 10,
     "metadata": {},
     "output_type": "execute_result"
    }
   ],
   "source": [
    "ytrain.shape"
   ]
  },
  {
   "cell_type": "markdown",
   "id": "fb86d693",
   "metadata": {},
   "source": [
    "# Sequential Model"
   ]
  },
  {
   "cell_type": "code",
   "execution_count": 11,
   "id": "08f4d21c",
   "metadata": {},
   "outputs": [
    {
     "name": "stdout",
     "output_type": "stream",
     "text": [
      "Model: \"sequential\"\n",
      "_________________________________________________________________\n",
      " Layer (type)                Output Shape              Param #   \n",
      "=================================================================\n",
      " dense (Dense)               (None, 512)               401920    \n",
      "                                                                 \n",
      " dense_1 (Dense)             (None, 512)               262656    \n",
      "                                                                 \n",
      " dense_2 (Dense)             (None, 10)                5130      \n",
      "                                                                 \n",
      "=================================================================\n",
      "Total params: 669706 (2.55 MB)\n",
      "Trainable params: 669706 (2.55 MB)\n",
      "Non-trainable params: 0 (0.00 Byte)\n",
      "_________________________________________________________________\n"
     ]
    }
   ],
   "source": [
    "model=Sequential()\n",
    "model.add(Dense(512,activation='relu',input_shape=(784,)))\n",
    "model.add(Dense(512,activation='relu'))\n",
    "model.add(Dense(num_classes,activation='softmax'))\n",
    "model.summary()"
   ]
  },
  {
   "cell_type": "markdown",
   "id": "49718202",
   "metadata": {},
   "source": [
    "# Compile the model"
   ]
  },
  {
   "cell_type": "code",
   "execution_count": 12,
   "id": "5167de1a",
   "metadata": {},
   "outputs": [],
   "source": [
    "model.compile(loss='categorical_crossentropy',optimizer=RMSprop(),metrics=['accuracy'])"
   ]
  },
  {
   "cell_type": "markdown",
   "id": "b570bd04",
   "metadata": {},
   "source": [
    "# Fit the model"
   ]
  },
  {
   "cell_type": "code",
   "execution_count": 13,
   "id": "10caf5e9",
   "metadata": {},
   "outputs": [
    {
     "name": "stdout",
     "output_type": "stream",
     "text": [
      "Epoch 1/20\n",
      "469/469 - 7s - loss: 0.2297 - accuracy: 0.9298 - val_loss: 0.1013 - val_accuracy: 0.9679 - 7s/epoch - 14ms/step\n",
      "Epoch 2/20\n",
      "469/469 - 5s - loss: 0.0818 - accuracy: 0.9750 - val_loss: 0.0788 - val_accuracy: 0.9749 - 5s/epoch - 11ms/step\n",
      "Epoch 3/20\n",
      "469/469 - 5s - loss: 0.0530 - accuracy: 0.9838 - val_loss: 0.0654 - val_accuracy: 0.9804 - 5s/epoch - 11ms/step\n",
      "Epoch 4/20\n",
      "469/469 - 5s - loss: 0.0363 - accuracy: 0.9884 - val_loss: 0.0609 - val_accuracy: 0.9822 - 5s/epoch - 11ms/step\n",
      "Epoch 5/20\n",
      "469/469 - 5s - loss: 0.0263 - accuracy: 0.9916 - val_loss: 0.0652 - val_accuracy: 0.9818 - 5s/epoch - 11ms/step\n",
      "Epoch 6/20\n",
      "469/469 - 5s - loss: 0.0202 - accuracy: 0.9933 - val_loss: 0.0672 - val_accuracy: 0.9837 - 5s/epoch - 11ms/step\n",
      "Epoch 7/20\n",
      "469/469 - 5s - loss: 0.0144 - accuracy: 0.9955 - val_loss: 0.0788 - val_accuracy: 0.9822 - 5s/epoch - 11ms/step\n",
      "Epoch 8/20\n",
      "469/469 - 5s - loss: 0.0118 - accuracy: 0.9962 - val_loss: 0.0707 - val_accuracy: 0.9844 - 5s/epoch - 11ms/step\n",
      "Epoch 9/20\n",
      "469/469 - 5s - loss: 0.0088 - accuracy: 0.9972 - val_loss: 0.0815 - val_accuracy: 0.9838 - 5s/epoch - 11ms/step\n",
      "Epoch 10/20\n",
      "469/469 - 5s - loss: 0.0075 - accuracy: 0.9976 - val_loss: 0.1430 - val_accuracy: 0.9697 - 5s/epoch - 11ms/step\n",
      "Epoch 11/20\n",
      "469/469 - 5s - loss: 0.0048 - accuracy: 0.9984 - val_loss: 0.0857 - val_accuracy: 0.9840 - 5s/epoch - 12ms/step\n",
      "Epoch 12/20\n",
      "469/469 - 5s - loss: 0.0042 - accuracy: 0.9987 - val_loss: 0.1011 - val_accuracy: 0.9823 - 5s/epoch - 12ms/step\n",
      "Epoch 13/20\n",
      "469/469 - 5s - loss: 0.0036 - accuracy: 0.9988 - val_loss: 0.0849 - val_accuracy: 0.9840 - 5s/epoch - 11ms/step\n",
      "Epoch 14/20\n",
      "469/469 - 5s - loss: 0.0019 - accuracy: 0.9993 - val_loss: 0.0878 - val_accuracy: 0.9836 - 5s/epoch - 11ms/step\n",
      "Epoch 15/20\n",
      "469/469 - 5s - loss: 0.0016 - accuracy: 0.9996 - val_loss: 0.0901 - val_accuracy: 0.9841 - 5s/epoch - 12ms/step\n",
      "Epoch 16/20\n",
      "469/469 - 5s - loss: 6.5893e-04 - accuracy: 0.9998 - val_loss: 0.0868 - val_accuracy: 0.9863 - 5s/epoch - 12ms/step\n",
      "Epoch 17/20\n",
      "469/469 - 5s - loss: 5.6483e-04 - accuracy: 0.9998 - val_loss: 0.0880 - val_accuracy: 0.9858 - 5s/epoch - 11ms/step\n",
      "Epoch 18/20\n",
      "469/469 - 5s - loss: 7.1661e-05 - accuracy: 1.0000 - val_loss: 0.0864 - val_accuracy: 0.9859 - 5s/epoch - 11ms/step\n",
      "Epoch 19/20\n",
      "469/469 - 5s - loss: 1.5347e-05 - accuracy: 1.0000 - val_loss: 0.0866 - val_accuracy: 0.9860 - 5s/epoch - 11ms/step\n",
      "Epoch 20/20\n",
      "469/469 - 5s - loss: 1.1143e-05 - accuracy: 1.0000 - val_loss: 0.0871 - val_accuracy: 0.9860 - 5s/epoch - 11ms/step\n",
      "313/313 [==============================] - 1s 3ms/step - loss: 0.0871 - accuracy: 0.9860\n"
     ]
    }
   ],
   "source": [
    "histroy=model.fit(xtrain,ytrain,\n",
    "                 batch_size=batch_size,\n",
    "                 epochs=epochs,\n",
    "                 verbose=2,\n",
    "                 validation_data=(xtest,ytest))\n",
    "score=model.evaluate(xtest,ytest,verbose=1)"
   ]
  },
  {
   "cell_type": "code",
   "execution_count": 14,
   "id": "a72a7402",
   "metadata": {},
   "outputs": [
    {
     "name": "stdout",
     "output_type": "stream",
     "text": [
      "Test Loss:\t 0.08714190870523453\n",
      "Test Accuracy:\t 0.9860000014305115\n"
     ]
    }
   ],
   "source": [
    "print('Test Loss:\\t',score[0])\n",
    "print('Test Accuracy:\\t',score[1])"
   ]
  },
  {
   "cell_type": "markdown",
   "id": "c0393304",
   "metadata": {},
   "source": [
    "# Task 1: Experiment with Model Architecture"
   ]
  },
  {
   "cell_type": "code",
   "execution_count": 15,
   "id": "cf5d5713",
   "metadata": {},
   "outputs": [
    {
     "name": "stdout",
     "output_type": "stream",
     "text": [
      "Model: \"sequential_1\"\n",
      "_________________________________________________________________\n",
      " Layer (type)                Output Shape              Param #   \n",
      "=================================================================\n",
      " dense_3 (Dense)             (None, 512)               401920    \n",
      "                                                                 \n",
      " dropout (Dropout)           (None, 512)               0         \n",
      "                                                                 \n",
      " dense_4 (Dense)             (None, 256)               131328    \n",
      "                                                                 \n",
      " dense_5 (Dense)             (None, 128)               32896     \n",
      "                                                                 \n",
      " dropout_1 (Dropout)         (None, 128)               0         \n",
      "                                                                 \n",
      " dense_6 (Dense)             (None, 10)                1290      \n",
      "                                                                 \n",
      "=================================================================\n",
      "Total params: 567434 (2.16 MB)\n",
      "Trainable params: 567434 (2.16 MB)\n",
      "Non-trainable params: 0 (0.00 Byte)\n",
      "_________________________________________________________________\n"
     ]
    }
   ],
   "source": [
    "# Modify the model architecture by adding more layers or changing the number of neurons\n",
    "model = Sequential()\n",
    "model.add(Dense(512, activation='relu', input_shape=(784,)))\n",
    "model.add(Dropout(0.2))  # Adding dropout for regularization\n",
    "model.add(Dense(256, activation='relu'))  # Adding another layer\n",
    "model.add(Dense(128, activation='relu'))  # Adding another layer\n",
    "model.add(Dropout(0.2))  # Adding dropout for regularization\n",
    "model.add(Dense(num_classes, activation='softmax'))\n",
    "model.summary()"
   ]
  },
  {
   "cell_type": "markdown",
   "id": "d74bd949",
   "metadata": {},
   "source": [
    "# Task 2: Hyperparameter Tuning"
   ]
  },
  {
   "cell_type": "code",
   "execution_count": 16,
   "id": "84786a7e",
   "metadata": {},
   "outputs": [
    {
     "name": "stdout",
     "output_type": "stream",
     "text": [
      "Epoch 1/30\n",
      "938/938 - 9s - loss: 0.2513 - accuracy: 0.9234 - val_loss: 0.1186 - val_accuracy: 0.9643 - 9s/epoch - 10ms/step\n",
      "Epoch 2/30\n",
      "938/938 - 9s - loss: 0.1109 - accuracy: 0.9682 - val_loss: 0.1050 - val_accuracy: 0.9693 - 9s/epoch - 10ms/step\n",
      "Epoch 3/30\n",
      "938/938 - 8s - loss: 0.0869 - accuracy: 0.9751 - val_loss: 0.0774 - val_accuracy: 0.9800 - 8s/epoch - 9ms/step\n",
      "Epoch 4/30\n",
      "938/938 - 8s - loss: 0.0700 - accuracy: 0.9801 - val_loss: 0.0784 - val_accuracy: 0.9784 - 8s/epoch - 8ms/step\n",
      "Epoch 5/30\n",
      "938/938 - 8s - loss: 0.0610 - accuracy: 0.9821 - val_loss: 0.0723 - val_accuracy: 0.9821 - 8s/epoch - 8ms/step\n",
      "Epoch 6/30\n",
      "938/938 - 8s - loss: 0.0534 - accuracy: 0.9850 - val_loss: 0.0749 - val_accuracy: 0.9811 - 8s/epoch - 8ms/step\n",
      "Epoch 7/30\n",
      "938/938 - 8s - loss: 0.0486 - accuracy: 0.9864 - val_loss: 0.0880 - val_accuracy: 0.9811 - 8s/epoch - 8ms/step\n",
      "Epoch 8/30\n",
      "938/938 - 8s - loss: 0.0463 - accuracy: 0.9879 - val_loss: 0.0745 - val_accuracy: 0.9815 - 8s/epoch - 8ms/step\n",
      "Epoch 9/30\n",
      "938/938 - 8s - loss: 0.0390 - accuracy: 0.9895 - val_loss: 0.0792 - val_accuracy: 0.9828 - 8s/epoch - 9ms/step\n",
      "Epoch 10/30\n",
      "938/938 - 8s - loss: 0.0393 - accuracy: 0.9897 - val_loss: 0.0985 - val_accuracy: 0.9806 - 8s/epoch - 9ms/step\n",
      "Epoch 11/30\n",
      "938/938 - 9s - loss: 0.0377 - accuracy: 0.9910 - val_loss: 0.0943 - val_accuracy: 0.9820 - 9s/epoch - 9ms/step\n",
      "Epoch 12/30\n",
      "938/938 - 9s - loss: 0.0339 - accuracy: 0.9908 - val_loss: 0.0853 - val_accuracy: 0.9834 - 9s/epoch - 9ms/step\n",
      "Epoch 13/30\n",
      "938/938 - 8s - loss: 0.0336 - accuracy: 0.9917 - val_loss: 0.0844 - val_accuracy: 0.9842 - 8s/epoch - 8ms/step\n",
      "Epoch 14/30\n",
      "938/938 - 8s - loss: 0.0304 - accuracy: 0.9925 - val_loss: 0.1084 - val_accuracy: 0.9808 - 8s/epoch - 9ms/step\n",
      "Epoch 15/30\n",
      "938/938 - 9s - loss: 0.0306 - accuracy: 0.9930 - val_loss: 0.1139 - val_accuracy: 0.9830 - 9s/epoch - 9ms/step\n",
      "Epoch 16/30\n",
      "938/938 - 9s - loss: 0.0280 - accuracy: 0.9934 - val_loss: 0.1188 - val_accuracy: 0.9817 - 9s/epoch - 9ms/step\n",
      "Epoch 17/30\n",
      "938/938 - 9s - loss: 0.0280 - accuracy: 0.9936 - val_loss: 0.1010 - val_accuracy: 0.9845 - 9s/epoch - 9ms/step\n",
      "Epoch 18/30\n",
      "938/938 - 8s - loss: 0.0288 - accuracy: 0.9936 - val_loss: 0.0990 - val_accuracy: 0.9853 - 8s/epoch - 9ms/step\n",
      "Epoch 19/30\n",
      "938/938 - 8s - loss: 0.0259 - accuracy: 0.9941 - val_loss: 0.1101 - val_accuracy: 0.9858 - 8s/epoch - 9ms/step\n",
      "Epoch 20/30\n",
      "938/938 - 9s - loss: 0.0250 - accuracy: 0.9943 - val_loss: 0.1036 - val_accuracy: 0.9840 - 9s/epoch - 10ms/step\n",
      "Epoch 21/30\n",
      "938/938 - 10s - loss: 0.0233 - accuracy: 0.9942 - val_loss: 0.0997 - val_accuracy: 0.9851 - 10s/epoch - 11ms/step\n",
      "Epoch 22/30\n",
      "938/938 - 8s - loss: 0.0219 - accuracy: 0.9949 - val_loss: 0.1184 - val_accuracy: 0.9830 - 8s/epoch - 9ms/step\n",
      "Epoch 23/30\n",
      "938/938 - 8s - loss: 0.0205 - accuracy: 0.9955 - val_loss: 0.1416 - val_accuracy: 0.9833 - 8s/epoch - 8ms/step\n",
      "Epoch 24/30\n",
      "938/938 - 9s - loss: 0.0191 - accuracy: 0.9953 - val_loss: 0.1219 - val_accuracy: 0.9830 - 9s/epoch - 9ms/step\n",
      "Epoch 25/30\n",
      "938/938 - 8s - loss: 0.0204 - accuracy: 0.9955 - val_loss: 0.1007 - val_accuracy: 0.9860 - 8s/epoch - 8ms/step\n",
      "Epoch 26/30\n",
      "938/938 - 8s - loss: 0.0186 - accuracy: 0.9960 - val_loss: 0.1474 - val_accuracy: 0.9833 - 8s/epoch - 8ms/step\n",
      "Epoch 27/30\n",
      "938/938 - 8s - loss: 0.0189 - accuracy: 0.9958 - val_loss: 0.1259 - val_accuracy: 0.9841 - 8s/epoch - 8ms/step\n",
      "Epoch 28/30\n",
      "938/938 - 8s - loss: 0.0170 - accuracy: 0.9964 - val_loss: 0.1051 - val_accuracy: 0.9849 - 8s/epoch - 9ms/step\n",
      "Epoch 29/30\n",
      "938/938 - 8s - loss: 0.0171 - accuracy: 0.9963 - val_loss: 0.1307 - val_accuracy: 0.9824 - 8s/epoch - 9ms/step\n",
      "Epoch 30/30\n",
      "938/938 - 8s - loss: 0.0143 - accuracy: 0.9965 - val_loss: 0.1499 - val_accuracy: 0.9847 - 8s/epoch - 8ms/step\n"
     ]
    }
   ],
   "source": [
    "# Experiment with different hyperparameters such as learning rate, batch size, and epochs\n",
    "model.compile(loss='categorical_crossentropy', optimizer=RMSprop(learning_rate=0.001), metrics=['accuracy'])\n",
    "history = model.fit(xtrain, ytrain, batch_size=64, epochs=30, verbose=2, validation_data=(xtest, ytest))"
   ]
  },
  {
   "cell_type": "markdown",
   "id": "aa05ec82",
   "metadata": {},
   "source": [
    "# Task 3: Regularization"
   ]
  },
  {
   "cell_type": "code",
   "execution_count": 18,
   "id": "fb2d2931",
   "metadata": {},
   "outputs": [],
   "source": [
    "# Implement dropout for regularization\n",
    "model.add(Dropout(0.2))"
   ]
  },
  {
   "cell_type": "markdown",
   "id": "8f532aa1",
   "metadata": {},
   "source": [
    "# Task 4: Visualizations"
   ]
  },
  {
   "cell_type": "code",
   "execution_count": 19,
   "id": "fba7ed77",
   "metadata": {},
   "outputs": [
    {
     "data": {
      "image/png": "[encoded data removed]",
      "text/plain": [
       "<Figure size 640x480 with 1 Axes>"
      ]
     },
     "metadata": {},
     "output_type": "display_data"
    }
   ],
   "source": [
    "# Add code to visualize the training history\n",
    "import matplotlib.pyplot as plt\n",
    "\n",
    "# Plot training history\n",
    "plt.plot(history.history['accuracy'])\n",
    "plt.plot(history.history['val_accuracy'])\n",
    "plt.title('Model Accuracy')\n",
    "plt.xlabel('Epoch')\n",
    "plt.ylabel('Accuracy')\n",
    "plt.legend(['Train', 'Test'], loc='upper left')\n",
    "plt.show()"
   ]
  },
  {
   "cell_type": "markdown",
   "id": "ce790582",
   "metadata": {},
   "source": [
    "# Task 5: Transfer Learning"
   ]
  },
  {
   "cell_type": "code",
   "execution_count": 20,
   "id": "6cc2569d",
   "metadata": {},
   "outputs": [
    {
     "name": "stdout",
     "output_type": "stream",
     "text": [
      "Downloading data from https://storage.googleapis.com/tensorflow/keras-applications/vgg16/vgg16_weights_tf_dim_ordering_tf_kernels_notop.h5\n",
      "58889256/58889256 [==============================] - 9s 0us/step\n",
      "Model: \"sequential_2\"\n",
      "_________________________________________________________________\n",
      " Layer (type)                Output Shape              Param #   \n",
      "=================================================================\n",
      " flatten (Flatten)           (None, 6912)              0         \n",
      "                                                                 \n",
      " dense_7 (Dense)             (None, 256)               1769728   \n",
      "                                                                 \n",
      " dense_8 (Dense)             (None, 10)                2570      \n",
      "                                                                 \n",
      "=================================================================\n",
      "Total params: 1772298 (6.76 MB)\n",
      "Trainable params: 1772298 (6.76 MB)\n",
      "Non-trainable params: 0 (0.00 Byte)\n",
      "_________________________________________________________________\n"
     ]
    }
   ],
   "source": [
    "# Using a pre-trained model (e.g., VGG16) and adapt it for the MNIST classification task\n",
    "from keras.applications import VGG16\n",
    "from keras.layers import Flatten\n",
    "\n",
    "# Load the pre-trained VGG16 model\n",
    "base_model = VGG16(weights='imagenet', include_top=False, input_shape=(48, 48, 3))  # Adjust input shape as needed\n",
    "\n",
    "# Freeze the layers\n",
    "for layer in base_model.layers:\n",
    "    layer.trainable = False\n",
    "\n",
    "# Create a new model on top of the pre-trained model\n",
    "model = Sequential()\n",
    "model.add(Flatten(input_shape=(48, 48, 3)))  # Adjust input shape as needed\n",
    "model.add(Dense(256, activation='relu'))\n",
    "model.add(Dense(num_classes, activation='softmax'))\n",
    "model.summary()"
   ]
  },
  {
   "cell_type": "code",
   "execution_count": null,
   "id": "d87f7f89",
   "metadata": {},
   "outputs": [],
   "source": []
  }
 ],
 "metadata": {
  "kernelspec": {
   "display_name": "Python 3 (ipykernel)",
   "language": "python",
   "name": "python3"
  },
  "language_info": {
   "codemirror_mode": {
    "name": "ipython",
    "version": 3
   },
   "file_extension": ".py",
   "mimetype": "text/x-python",
   "name": "python",
   "nbconvert_exporter": "python",
   "pygments_lexer": "ipython3",
   "version": "3.11.4"
  }
 },
 "nbformat": 4,
 "nbformat_minor": 5
}
